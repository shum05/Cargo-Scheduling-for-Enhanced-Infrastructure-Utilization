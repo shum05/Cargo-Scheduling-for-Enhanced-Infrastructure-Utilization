{
 "cells": [
  {
   "cell_type": "code",
   "execution_count": null,
   "metadata": {},
   "outputs": [],
   "source": [
    "# Exploring traffic data\n",
    "import pandas as pd\n",
    "import matplotlib.pyplot as plt\n",
    "\n",
    "# Load traffic flow data\n",
    "traffic_data = pd.read_csv(\"../data/Traffic_Flow.csv\")\n",
    "\n",
    "# Plot vehicle count over time\n",
    "plt.figure(figsize=(10, 5))\n",
    "plt.plot(traffic_data['timestamp'], traffic_data['vehicle_count'])\n",
    "plt.title(\"Vehicle Count Over Time\")\n",
    "plt.xlabel(\"Time\")\n",
    "plt.ylabel(\"Vehicle Count\")\n",
    "plt.show()\n"
   ]
  },
  {
   "cell_type": "code",
   "execution_count": null,
   "metadata": {},
   "outputs": [],
   "source": []
  }
 ],
 "metadata": {
  "kernelspec": {
   "display_name": "venv",
   "language": "python",
   "name": "python3"
  },
  "language_info": {
   "name": "python",
   "version": "3.9.13"
  }
 },
 "nbformat": 4,
 "nbformat_minor": 2
}
