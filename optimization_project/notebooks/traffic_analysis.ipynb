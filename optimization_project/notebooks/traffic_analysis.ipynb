{
 "cells": [
  {
   "cell_type": "code",
   "execution_count": null,
   "metadata": {},
   "outputs": [],
   "source": [
    "# Traffic pattern analysis\n",
    "import pandas as pd\n",
    "from scipy.stats import linregress\n",
    "\n",
    "# Load and process data\n",
    "traffic_data = pd.read_csv(\"../data/Traffic_Flow.csv\")\n",
    "traffic_data['timestamp'] = pd.to_datetime(traffic_data['timestamp'])\n",
    "\n",
    "# Calculate traffic trends\n",
    "slope, intercept, r_value, p_value, std_err = linregress(\n",
    "    range(len(traffic_data)), traffic_data['vehicle_count']\n",
    ")\n",
    "print(f\"Slope: {slope}, R-squared: {r_value**2}\")\n"
   ]
  }
 ],
 "metadata": {
  "kernelspec": {
   "display_name": "venv",
   "language": "python",
   "name": "python3"
  },
  "language_info": {
   "name": "python",
   "version": "3.9.13"
  }
 },
 "nbformat": 4,
 "nbformat_minor": 2
}
