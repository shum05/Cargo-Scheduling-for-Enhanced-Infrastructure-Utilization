{
 "cells": [
  {
   "cell_type": "code",
   "execution_count": null,
   "metadata": {},
   "outputs": [],
   "source": [
    "# simulation.ipynb\n",
    "\n",
    "# Step 1: Import necessary libraries\n",
    "import pandas as pd\n",
    "import numpy as np\n",
    "import matplotlib.pyplot as plt\n",
    "import seaborn as sns\n",
    "\n",
    "# Step 2: Load and explore traffic flow data\n",
    "traffic_data = pd.read_csv('data/Traffic_Flow.csv')\n",
    "traffic_data['timestamp'] = pd.to_datetime(traffic_data['timestamp'])\n",
    "traffic_data.set_index('timestamp', inplace=True)\n",
    "\n",
    "# Step 3: Visualize traffic flow data\n",
    "plt.figure(figsize=(12,6))\n",
    "sns.lineplot(x=traffic_data.index, y='vehicle_count', data=traffic_data, label='Vehicle Count')\n",
    "plt.title('Traffic Flow Over Time')\n",
    "plt.xlabel('Time')\n",
    "plt.ylabel('Vehicle Count')\n",
    "plt.xticks(rotation=45)\n",
    "plt.legend()\n",
    "plt.show()\n",
    "\n",
    "# Step 4: Analyze traffic congestion using traffic incidents data\n",
    "incident_data = pd.read_csv('data/Incident_Report.csv')\n",
    "incident_data['timestamp'] = pd.to_datetime(incident_data['timestamp'])\n",
    "incident_data.set_index('timestamp', inplace=True)\n",
    "\n",
    "# Merge traffic flow and incident data based on timestamp\n",
    "merged_data = pd.merge_asof(traffic_data.sort_index(), incident_data.sort_index(), left_index=True, right_index=True, direction='nearest')\n",
    "\n",
    "# Step 5: Simulate congestion levels\n",
    "merged_data['congestion_level'] = np.where(merged_data['incident_type'].notna(), 'High', 'Low')\n",
    "plt.figure(figsize=(12,6))\n",
    "sns.lineplot(x=merged_data.index, y='vehicle_count', hue='congestion_level', data=merged_data)\n",
    "plt.title('Traffic Flow and Congestion Simulation')\n",
    "plt.xlabel('Time')\n",
    "plt.ylabel('Vehicle Count')\n",
    "plt.xticks(rotation=45)\n",
    "plt.legend()\n",
    "plt.show()\n"
   ]
  }
 ],
 "metadata": {
  "kernelspec": {
   "display_name": "venv",
   "language": "python",
   "name": "python3"
  },
  "language_info": {
   "name": "python",
   "version": "3.9.13"
  }
 },
 "nbformat": 4,
 "nbformat_minor": 2
}
